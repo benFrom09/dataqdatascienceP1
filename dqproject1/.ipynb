{
 "cells": [
  {
   "cell_type": "markdown",
   "metadata": {},
   "source": [
    "# Best Apps profiles for app strore and google play market\n",
    "\n",
    "##understand what type of apps are likely to attract more users on Google Play and the App Store\n",
    "\n",
    "we're working as data analysts for a company that builds Android and iOS mobile apps. We make our apps available on Google Play and the App Store.\n",
    "Our Apps are free and our source of revenue consists of in-app ads.\n",
    "\n",
    "Our goal for this project is to analyze data to help our developers understand what type of apps are likely to attract more users.\n",
    "\n",
    "ios doc https://www.kaggle.com/ramamet4/app-store-apple-data-set-10k-apps/home\n",
    "google data doc https://www.kaggle.com/lava18/google-play-store-apps/home"
   ]
  },
  {
   "cell_type": "code",
   "execution_count": 1,
   "metadata": {},
   "outputs": [],
   "source": [
    "opened_file1 = open('AppleStore.csv',encoding=\"utf-8\")\n",
    "opened_file2 = open('googleplaystore.csv',encoding=\"utf-8\")\n",
    "from csv import reader\n",
    "read_file1 = reader(opened_file1)\n",
    "read_file2 = reader(opened_file2)\n",
    "android = list(read_file2)\n",
    "ios = list(read_file1)\n",
    "\n",
    "\n",
    "\n"
   ]
  },
  {
   "cell_type": "code",
   "execution_count": 2,
   "metadata": {},
   "outputs": [],
   "source": [
    "def explore_data(dataset,start,end,rows_and_columns=False):\n",
    "    data_slice = dataset[start:end]\n",
    "    for row in data_slice:\n",
    "        print(row)\n",
    "        print('\\n')\n",
    "    if rows_and_columns:\n",
    "        print('Number of rows :', len(dataset))\n",
    "        print('Number of columns', len(dataset[0]))\n",
    "        "
   ]
  },
  {
   "cell_type": "code",
   "execution_count": 3,
   "metadata": {},
   "outputs": [
    {
     "name": "stdout",
     "output_type": "stream",
     "text": [
      "['App', 'Category', 'Rating', 'Reviews', 'Size', 'Installs', 'Type', 'Price', 'Content Rating', 'Genres', 'Last Updated', 'Current Ver', 'Android Ver']\n",
      "\n",
      "\n",
      "['Life Made WI-Fi Touchscreen Photo Frame', '1.9', '19', '3.0M', '1,000+', 'Free', '0', 'Everyone', '', 'February 11, 2018', '1.0.19', '4.0 and up']\n",
      "\n",
      "\n",
      "['App', 'Category', 'Rating', 'Reviews', 'Size', 'Installs', 'Type', 'Price', 'Content Rating', 'Genres', 'Last Updated', 'Current Ver', 'Android Ver']\n",
      "\n",
      "\n",
      "['Photo Editor & Candy Camera & Grid & ScrapBook', 'ART_AND_DESIGN', '4.1', '159', '19M', '10,000+', 'Free', '0', 'Everyone', 'Art & Design', 'January 7, 2018', '1.0.0', '4.0.3 and up']\n",
      "\n",
      "\n",
      "['Coloring book moana', 'ART_AND_DESIGN', '3.9', '967', '14M', '500,000+', 'Free', '0', 'Everyone', 'Art & Design;Pretend Play', 'January 15, 2018', '2.0.0', '4.0.3 and up']\n",
      "\n",
      "\n",
      "Number of rows : 10842\n",
      "Number of columns 13\n"
     ]
    }
   ],
   "source": [
    "print(android[0])\n",
    "print('\\n')\n",
    "print(android[10473])\n",
    "print('\\n')\n",
    "explore_data(android,0,3,True)"
   ]
  },
  {
   "cell_type": "markdown",
   "metadata": {},
   "source": [
    "delete error in dataset row 10473"
   ]
  },
  {
   "cell_type": "code",
   "execution_count": 4,
   "metadata": {},
   "outputs": [],
   "source": [
    "del android[10473]"
   ]
  },
  {
   "cell_type": "markdown",
   "metadata": {},
   "source": [
    "##Removing duplicate entries from google play data"
   ]
  },
  {
   "cell_type": "markdown",
   "metadata": {},
   "source": [
    "we print as exemple the number of entries of Instagram app"
   ]
  },
  {
   "cell_type": "code",
   "execution_count": 5,
   "metadata": {},
   "outputs": [
    {
     "name": "stdout",
     "output_type": "stream",
     "text": [
      "['App', 'Category', 'Rating', 'Reviews', 'Size', 'Installs', 'Type', 'Price', 'Content Rating', 'Genres', 'Last Updated', 'Current Ver', 'Android Ver']\n",
      "\n",
      "\n",
      "['Instagram', 'SOCIAL', '4.5', '66577313', 'Varies with device', '1,000,000,000+', 'Free', '0', 'Teen', 'Social', 'July 31, 2018', 'Varies with device', 'Varies with device']\n",
      "['Instagram', 'SOCIAL', '4.5', '66577446', 'Varies with device', '1,000,000,000+', 'Free', '0', 'Teen', 'Social', 'July 31, 2018', 'Varies with device', 'Varies with device']\n",
      "['Instagram', 'SOCIAL', '4.5', '66577313', 'Varies with device', '1,000,000,000+', 'Free', '0', 'Teen', 'Social', 'July 31, 2018', 'Varies with device', 'Varies with device']\n",
      "['Instagram', 'SOCIAL', '4.5', '66509917', 'Varies with device', '1,000,000,000+', 'Free', '0', 'Teen', 'Social', 'July 31, 2018', 'Varies with device', 'Varies with device']\n"
     ]
    }
   ],
   "source": [
    "print(android[0])\n",
    "print('\\n')\n",
    "for app in android:\n",
    "    name = app[0]\n",
    "    if name == 'Instagram':\n",
    "        print(app)"
   ]
  },
  {
   "cell_type": "code",
   "execution_count": 6,
   "metadata": {},
   "outputs": [
    {
     "name": "stdout",
     "output_type": "stream",
     "text": [
      "Number of duplicate apps: 1181\n",
      "\n",
      "\n",
      "Number ofunique apps: 9660\n",
      "\n",
      "\n"
     ]
    }
   ],
   "source": [
    "duplicate_apps = []\n",
    "unique_apps = []\n",
    "\n",
    "for app in android:\n",
    "    name = app[0]\n",
    "    if name in unique_apps:\n",
    "        duplicate_apps.append(name)\n",
    "    else:\n",
    "        unique_apps.append(name)\n",
    "\n",
    "print('Number of duplicate apps:',len(duplicate_apps))\n",
    "print('\\n')\n",
    "print('Number ofunique apps:',len(unique_apps))\n",
    "print('\\n')"
   ]
  },
  {
   "cell_type": "markdown",
   "metadata": {},
   "source": [
    "We don't want to count certain apps more than once when we analyze data, so we need to remove the duplicate entries and keep only one entry per app. One thing we could do is remove the duplicate rows randomly, but we could probably find a better way.\n",
    "\n",
    "If you examine the rows we printed two cells above for the Instagram app, the main difference happens on the fourth position of each row, which corresponds to the number of reviews. The different numbers show that the data was collected at different times. We can use this to build a criterion for keeping rows. We won't remove rows randomly, but rather we'll keep the rows that have the highest number of reviews because the higher the number of reviews, the more reliable the ratings.\n",
    "\n",
    "To do that, we will:\n",
    "\n",
    "    Create a dictionary where each key is a unique app name, and the value is the highest number of reviews of that app\n",
    "    Use the dictionary to create a new data set, which will have only one entry per app (and we only select the apps with the highest number of reviews)\n"
   ]
  },
  {
   "cell_type": "code",
   "execution_count": 7,
   "metadata": {},
   "outputs": [],
   "source": [
    "reviews_max = {} \n",
    "for app in android[1:]:\n",
    "    name = app[0]\n",
    "    n_reviews = float(app[3])\n",
    "    if name in reviews_max and reviews_max[name] < n_reviews:\n",
    "        reviews_max[name] = n_reviews\n",
    "    elif name not in reviews_max:\n",
    "        reviews_max[name] = n_reviews\n",
    "\n",
    "        "
   ]
  },
  {
   "cell_type": "markdown",
   "metadata": {},
   "source": [
    "Inspect the dictionary to make sure everything went as expected. Measure the length of the dictionary — remember that the expected length is 9,659 entries so expected length is total (without header) minus duplicate_apps "
   ]
  },
  {
   "cell_type": "code",
   "execution_count": 8,
   "metadata": {},
   "outputs": [
    {
     "name": "stdout",
     "output_type": "stream",
     "text": [
      "Expected length: 9659\n",
      "Actual length: 9659\n"
     ]
    }
   ],
   "source": [
    "print(\"Expected length:\",len(android[1:]) - len(duplicate_apps))\n",
    "print (\"Actual length:\",len(reviews_max))"
   ]
  },
  {
   "cell_type": "markdown",
   "metadata": {},
   "source": [
    "Now let's use the dictionary we created above to remove the duplicate rows:\n",
    "    .start by creating two empty list :\n",
    "        1)android-clean to store new clean data\n",
    "        2)already_added to just store apps name\n",
    "    .Loop to the dataset (without header) and for each iteration:\n",
    "        1)Assign app name to variable name and numbers of review to n_reviews\n",
    "        2)add the entire row (app) to android_clean_list and name to already cleaned (to keept track of this)\n",
    "        if:\n",
    "        n_reviews is the same as the number of maximum reviews of the app name (the number can be found in the     reviews_max dictionary) and name is not already in the list already_added(because the same app could have multiple time the same numbers of reviews\n",
    "        "
   ]
  },
  {
   "cell_type": "code",
   "execution_count": 9,
   "metadata": {},
   "outputs": [],
   "source": [
    "android_clean = []\n",
    "already_added = []\n",
    "for app in android[1:]:\n",
    "    name = app[0]\n",
    "    n_reviews = float(app[3])\n",
    "    if(n_reviews == reviews_max[name])and(name not in already_added):\n",
    "        android_clean.append(app)\n",
    "        already_added.append(name)"
   ]
  },
  {
   "cell_type": "markdown",
   "metadata": {},
   "source": [
    "Let explore new dataset "
   ]
  },
  {
   "cell_type": "code",
   "execution_count": 10,
   "metadata": {},
   "outputs": [
    {
     "name": "stdout",
     "output_type": "stream",
     "text": [
      "['Photo Editor & Candy Camera & Grid & ScrapBook', 'ART_AND_DESIGN', '4.1', '159', '19M', '10,000+', 'Free', '0', 'Everyone', 'Art & Design', 'January 7, 2018', '1.0.0', '4.0.3 and up']\n",
      "\n",
      "\n",
      "['U Launcher Lite – FREE Live Cool Themes, Hide Apps', 'ART_AND_DESIGN', '4.7', '87510', '8.7M', '5,000,000+', 'Free', '0', 'Everyone', 'Art & Design', 'August 1, 2018', '1.2.4', '4.0.3 and up']\n",
      "\n",
      "\n",
      "['Sketch - Draw & Paint', 'ART_AND_DESIGN', '4.5', '215644', '25M', '50,000,000+', 'Free', '0', 'Teen', 'Art & Design', 'June 8, 2018', 'Varies with device', '4.2 and up']\n",
      "\n",
      "\n",
      "Number of rows : 9659\n",
      "Number of columns 13\n"
     ]
    }
   ],
   "source": [
    "explore_data(android_clean, 0, 3, True)"
   ]
  },
  {
   "cell_type": "markdown",
   "metadata": {},
   "source": [
    "We just have 9659 row just has expected!"
   ]
  },
  {
   "cell_type": "markdown",
   "metadata": {},
   "source": [
    "# Removing non-english Apps\n",
    "\n"
   ]
  },
  {
   "cell_type": "markdown",
   "metadata": {},
   "source": [
    "## Remove non-english apps\n",
    "\n",
    "English text usually includes letters from the English alphabet, numbers composed of digits from 0 to 9, punctuation marks (., !, ?, ;), and other symbols (+, *, /).\n",
    "Behind the scenes, each character we use in a string has a corresponding number associated with it. For instance, the corresponding number for character 'a' is 97, character 'A' is 65\n",
    "The numbers corresponding to the characters we commonly use in an English text are all in the range 0 to 127, according to the ASCII \n",
    "\n",
    "lets write a function that take a string as input return false if the character is not in the range of [0:127]"
   ]
  },
  {
   "cell_type": "code",
   "execution_count": 11,
   "metadata": {},
   "outputs": [],
   "source": [
    "def is_english_char(str):\n",
    "    for char in str:\n",
    "        if (ord(char) > 127):\n",
    "            return False\n",
    "        return True\n",
    "        "
   ]
  },
  {
   "cell_type": "code",
   "execution_count": 12,
   "metadata": {},
   "outputs": [
    {
     "name": "stdout",
     "output_type": "stream",
     "text": [
      "True\n",
      "False\n",
      "True\n",
      "True\n",
      "128540\n"
     ]
    }
   ],
   "source": [
    "print(is_english_char('Instagram'))\n",
    "print(is_english_char('爱奇艺PPS -《欢乐颂2》电视剧热播'))\n",
    "print(is_english_char('Docs To Go™ Free Office Suite'))\n",
    "print(is_english_char('Instachat 😜'))\n",
    "print(ord('😜'))"
   ]
  },
  {
   "cell_type": "markdown",
   "metadata": {},
   "source": [
    "The function is not perfect and few of non-english aps might get pass our filter but its good enought for our analysis\n",
    "lets use the function to filter the non-English apps of our data set"
   ]
  },
  {
   "cell_type": "code",
   "execution_count": 13,
   "metadata": {},
   "outputs": [],
   "source": [
    "android_english = []\n",
    "ios_english = []\n",
    "\n",
    "for app in android_clean:\n",
    "    name = app[0]\n",
    "    if is_english_char(name):\n",
    "        android_english.append(app)\n",
    "for app in ios:\n",
    "    name = app[0]\n",
    "    if is_english_char(name):\n",
    "        ios_english.append(app)\n"
   ]
  },
  {
   "cell_type": "code",
   "execution_count": 14,
   "metadata": {},
   "outputs": [
    {
     "name": "stdout",
     "output_type": "stream",
     "text": [
      "['Photo Editor & Candy Camera & Grid & ScrapBook', 'ART_AND_DESIGN', '4.1', '159', '19M', '10,000+', 'Free', '0', 'Everyone', 'Art & Design', 'January 7, 2018', '1.0.0', '4.0.3 and up']\n",
      "\n",
      "\n",
      "['U Launcher Lite – FREE Live Cool Themes, Hide Apps', 'ART_AND_DESIGN', '4.7', '87510', '8.7M', '5,000,000+', 'Free', '0', 'Everyone', 'Art & Design', 'August 1, 2018', '1.2.4', '4.0.3 and up']\n",
      "\n",
      "\n",
      "['Sketch - Draw & Paint', 'ART_AND_DESIGN', '4.5', '215644', '25M', '50,000,000+', 'Free', '0', 'Teen', 'Art & Design', 'June 8, 2018', 'Varies with device', '4.2 and up']\n",
      "\n",
      "\n",
      "Number of rows : 9623\n",
      "Number of columns 13\n",
      "['1', '281656475', 'PAC-MAN Premium', '100788224', 'USD', '3.99', '21292', '26', '4', '4.5', '6.3.5', '4+', 'Games', '38', '5', '10', '1']\n",
      "\n",
      "\n",
      "['2', '281796108', 'Evernote - stay organized', '158578688', 'USD', '0', '161065', '26', '4', '3.5', '8.2.2', '4+', 'Productivity', '37', '5', '23', '1']\n",
      "\n",
      "\n",
      "['3', '281940292', 'WeatherBug - Local Weather, Radar, Maps, Alerts', '100524032', 'USD', '0', '188583', '2822', '3.5', '4.5', '5.0.0', '4+', 'Weather', '37', '5', '3', '1']\n",
      "\n",
      "\n",
      "Number of rows : 7197\n",
      "Number of columns 17\n"
     ]
    }
   ],
   "source": [
    "explore_data(android_english,0,3,True)\n",
    "explore_data(ios_english,0,3,True)"
   ]
  },
  {
   "cell_type": "markdown",
   "metadata": {},
   "source": [
    "### Isolating free app from dataset\n",
    "\n",
    "The dataset contain both free and non-free apps, as we mentionned in introduction we only interested here by free apps\n",
    "\n",
    "So far in the data cleaning process, we:\n",
    "\n",
    "    Removed inaccurate data\n",
    "    Removed duplicate app entries\n",
    "    Removed non-English apps\n",
    "\n",
    "Isolating the free apps will be our last step in the data cleaning process"
   ]
  },
  {
   "cell_type": "code",
   "execution_count": 15,
   "metadata": {},
   "outputs": [
    {
     "name": "stdout",
     "output_type": "stream",
     "text": [
      "8873\n",
      "4056\n"
     ]
    }
   ],
   "source": [
    "free_android = []\n",
    "free_ios = []\n",
    "\n",
    "for app in android_english:\n",
    "    price = app[7]\n",
    "    if price == '0':\n",
    "        free_android.append(app)\n",
    "for app in ios_english:\n",
    "    price = app[5]\n",
    "    if price == '0':\n",
    "        free_ios.append(app)\n",
    "        \n",
    "print(len(free_android))\n",
    "print(len(free_ios))\n"
   ]
  },
  {
   "cell_type": "markdown",
   "metadata": {},
   "source": [
    "# Most common App by genre\n",
    "\n",
    "As mentionned in introduction our revenue is influenced by the number of peaople using our app,\n",
    "To minimize risks , we plan a validation strategie in 3 step:\n",
    "    1)build a mimimal android version of the app and add to google play\n",
    "    2)If app as a good response to users we develop it further\n",
    "    3)if after 6 months, app is profitable, we build an ios version and add it to App store\n",
    "    \n",
    "Our goal is to add th app in both Google play and App store so we need to find the profile that are successfull in both market :\n",
    "    1)What's the most common genre in both market ?\n",
    "    To find it we need to build a frequency table for few colums in our data set:\n",
    "    -The prime_genre coumn in ios and cateory and genre columns in android\n",
    "    \n",
    "Let's build 2 functions to analyse the frequency tables:\n",
    "    one to generate frequency table that show percentage\n",
    "    one to display percentage in frequency order\n",
    "    \n",
    "    "
   ]
  },
  {
   "cell_type": "code",
   "execution_count": 16,
   "metadata": {},
   "outputs": [],
   "source": [
    "def freq_table(dataset,index):\n",
    "    frequency_table = {}\n",
    "    total = 0\n",
    "    for row in dataset:\n",
    "        value = row[index]\n",
    "        total +=1\n",
    "        if value in frequency_table:\n",
    "            frequency_table[value]+=1\n",
    "        else:\n",
    "            frequency_table[value]=1\n",
    "    percentage_table = {}\n",
    "    for key in frequency_table:\n",
    "        percentage = (frequency_table[key] / total) * 100\n",
    "        percentage_table[key] = percentage\n",
    "    return percentage_table\n",
    "            \n",
    "def display_table(dataset, index):\n",
    "    table = freq_table(dataset, index)\n",
    "    table_display = []\n",
    "    for key in table:\n",
    "        #transform dictionnary into tuple to use the sorted function\n",
    "        key_val_as_tuple = (table[key], key)\n",
    "        table_display.append(key_val_as_tuple)\n",
    "        \n",
    "    table_sorted = sorted(table_display, reverse = True)\n",
    "    for entry in table_sorted:\n",
    "        print(entry[1], ':', entry[0])     \n",
    "        "
   ]
  },
  {
   "cell_type": "markdown",
   "metadata": {},
   "source": [
    "We start to examine frequency table for prime_genre column of ios"
   ]
  },
  {
   "cell_type": "code",
   "execution_count": 17,
   "metadata": {},
   "outputs": [
    {
     "name": "stdout",
     "output_type": "stream",
     "text": [
      "Games : 55.64595660749507\n",
      "Entertainment : 8.234714003944774\n",
      "Photo & Video : 4.117357001972387\n",
      "Social Networking : 3.5256410256410255\n",
      "Education : 3.2544378698224854\n",
      "Shopping : 2.983234714003945\n",
      "Utilities : 2.687376725838264\n",
      "Lifestyle : 2.3175542406311638\n",
      "Finance : 2.0710059171597637\n",
      "Sports : 1.947731755424063\n",
      "Health & Fitness : 1.8737672583826428\n",
      "Music : 1.6518737672583828\n",
      "Book : 1.6272189349112427\n",
      "Productivity : 1.5285996055226825\n",
      "News : 1.4299802761341223\n",
      "Travel : 1.3806706114398422\n",
      "Food & Drink : 1.0601577909270217\n",
      "Weather : 0.7642998027613412\n",
      "Reference : 0.4930966469428008\n",
      "Navigation : 0.4930966469428008\n",
      "Business : 0.4930966469428008\n",
      "Catalogs : 0.22189349112426035\n",
      "Medical : 0.19723865877712032\n"
     ]
    }
   ],
   "source": [
    "display_table(free_ios,-5)"
   ]
  },
  {
   "cell_type": "markdown",
   "metadata": {},
   "source": [
    "More than a half of Apps in ios are games (58%), Entertainment are 8% fallowed by photo & video and social networking.\n",
    "Only 3% are dedicated to eduction, as we  can see in App Store is dominated by Apps designed for fun but is doesn't imply that those Apps have the greatest number of users"
   ]
  },
  {
   "cell_type": "markdown",
   "metadata": {},
   "source": [
    "now category and genre column of android"
   ]
  },
  {
   "cell_type": "code",
   "execution_count": 18,
   "metadata": {},
   "outputs": [
    {
     "name": "stdout",
     "output_type": "stream",
     "text": [
      "FAMILY : 18.95638453736053\n",
      "GAME : 9.703595176377776\n",
      "TOOLS : 8.441338893271723\n",
      "BUSINESS : 4.59821931702919\n",
      "LIFESTYLE : 3.933280739321537\n",
      "PRODUCTIVITY : 3.899470303166911\n",
      "FINANCE : 3.685337540854277\n",
      "MEDICAL : 3.5275555054660206\n",
      "SPORTS : 3.3923137608475153\n",
      "PERSONALIZATION : 3.3246928885382623\n",
      "COMMUNICATION : 3.234531725459258\n",
      "HEALTH_AND_FITNESS : 3.076749690071002\n",
      "PHOTOGRAPHY : 2.9527780908373717\n",
      "NEWS_AND_MAGAZINES : 2.817536346218866\n",
      "SOCIAL : 2.6484841654457343\n",
      "TRAVEL_AND_LOCAL : 2.332920094669221\n",
      "SHOPPING : 2.231488786205342\n",
      "BOOKS_AND_REFERENCE : 2.1751380592809646\n",
      "DATING : 1.8595739885044518\n",
      "VIDEO_PLAYERS : 1.791953116195199\n",
      "MAPS_AND_NAVIGATION : 1.3974980277245577\n",
      "FOOD_AND_DRINK : 1.2284458469514257\n",
      "EDUCATION : 1.1720951200270482\n",
      "ENTERTAINMENT : 0.946692212329539\n",
      "LIBRARIES_AND_DEMO : 0.9354220669446636\n",
      "AUTO_AND_VEHICLES : 0.9241519215597882\n",
      "HOUSE_AND_HOME : 0.8114504677110335\n",
      "WEATHER : 0.800180322326158\n",
      "EVENTS : 0.7100191592471543\n",
      "PARENTING : 0.6536684323227769\n",
      "ART_AND_DESIGN : 0.6423982869379015\n",
      "COMICS : 0.5973177053983997\n",
      "BEAUTY : 0.5973177053983997\n"
     ]
    }
   ],
   "source": [
    "display_table(free_android,1)#category"
   ]
  },
  {
   "cell_type": "markdown",
   "metadata": {},
   "source": [
    "different on Google Play: there are not that many apps designed for fun, and it seems that a good number of apps are designed for practical purposes (family, tools, business, lifestyle, productivity, etc.). However, if we investigate this further, we can see that the family category (which accounts for almost 19% of the apps) means mostly games for kids.\n",
    "\n",
    "Even so, practical apps seem to have a better representation on Google Play compared to App Store. This picture is also confirmed by the frequency table we see for the Genres column:"
   ]
  },
  {
   "cell_type": "code",
   "execution_count": 19,
   "metadata": {},
   "outputs": [
    {
     "name": "stdout",
     "output_type": "stream",
     "text": [
      "Tools : 8.430068747886848\n",
      "Entertainment : 6.063338217063\n",
      "Education : 5.375859348585597\n",
      "Business : 4.59821931702919\n",
      "Lifestyle : 3.922010593936662\n",
      "Productivity : 3.899470303166911\n",
      "Finance : 3.685337540854277\n",
      "Medical : 3.5275555054660206\n",
      "Sports : 3.459934633156768\n",
      "Personalization : 3.3246928885382623\n",
      "Communication : 3.234531725459258\n",
      "Action : 3.0880198354558774\n",
      "Health & Fitness : 3.076749690071002\n",
      "Photography : 2.9527780908373717\n",
      "News & Magazines : 2.817536346218866\n",
      "Social : 2.6484841654457343\n",
      "Travel & Local : 2.3216499492843456\n",
      "Shopping : 2.231488786205342\n",
      "Books & Reference : 2.1751380592809646\n",
      "Simulation : 2.06243660543221\n",
      "Dating : 1.8595739885044518\n",
      "Arcade : 1.8370336977347006\n",
      "Video Players & Editors : 1.7694128254254478\n",
      "Casual : 1.7581426800405726\n",
      "Maps & Navigation : 1.3974980277245577\n",
      "Food & Drink : 1.2284458469514257\n",
      "Puzzle : 1.1270145384875465\n",
      "Racing : 0.9917727938690409\n",
      "Role Playing : 0.9354220669446636\n",
      "Libraries & Demo : 0.9354220669446636\n",
      "Auto & Vehicles : 0.9241519215597882\n",
      "Strategy : 0.9128817761749126\n",
      "House & Home : 0.8114504677110335\n",
      "Weather : 0.800180322326158\n",
      "Events : 0.7100191592471543\n",
      "Adventure : 0.6762087230925279\n",
      "Beauty : 0.5973177053983997\n",
      "Art & Design : 0.5973177053983997\n",
      "Comics : 0.5860475600135241\n",
      "Parenting : 0.49588639693452047\n",
      "Card : 0.45080581539501857\n",
      "Trivia : 0.4282655246252677\n",
      "Casino : 0.4282655246252677\n",
      "Educational;Education : 0.3944550884706413\n",
      "Board : 0.38318494308576584\n",
      "Educational : 0.3719147977008903\n",
      "Education;Education : 0.3493745069311394\n",
      "Word : 0.2592133438521357\n",
      "Casual;Pretend Play : 0.23667305308238476\n",
      "Music : 0.20286261692775837\n",
      "Racing;Action & Adventure : 0.16905218077313197\n",
      "Puzzle;Brain Games : 0.16905218077313197\n",
      "Entertainment;Music & Video : 0.16905218077313197\n",
      "Casual;Brain Games : 0.13524174461850558\n",
      "Casual;Action & Adventure : 0.13524174461850558\n",
      "Arcade;Action & Adventure : 0.12397159923363012\n",
      "Action;Action & Adventure : 0.10143130846387918\n",
      "Educational;Pretend Play : 0.09016116307900371\n",
      "Simulation;Action & Adventure : 0.07889101769412826\n",
      "Parenting;Education : 0.07889101769412826\n",
      "Entertainment;Brain Games : 0.07889101769412826\n",
      "Board;Brain Games : 0.07889101769412826\n",
      "Parenting;Music & Video : 0.06762087230925279\n",
      "Educational;Brain Games : 0.06762087230925279\n",
      "Casual;Creativity : 0.06762087230925279\n",
      "Art & Design;Creativity : 0.06762087230925279\n",
      "Education;Pretend Play : 0.05635072692437732\n",
      "Role Playing;Pretend Play : 0.045080581539501854\n",
      "Education;Creativity : 0.045080581539501854\n",
      "Role Playing;Action & Adventure : 0.033810436154626394\n",
      "Puzzle;Action & Adventure : 0.033810436154626394\n",
      "Entertainment;Creativity : 0.033810436154626394\n",
      "Entertainment;Action & Adventure : 0.033810436154626394\n",
      "Educational;Creativity : 0.033810436154626394\n",
      "Educational;Action & Adventure : 0.033810436154626394\n",
      "Education;Music & Video : 0.033810436154626394\n",
      "Education;Brain Games : 0.033810436154626394\n",
      "Education;Action & Adventure : 0.033810436154626394\n",
      "Adventure;Action & Adventure : 0.033810436154626394\n",
      "Video Players & Editors;Music & Video : 0.022540290769750927\n",
      "Sports;Action & Adventure : 0.022540290769750927\n",
      "Simulation;Pretend Play : 0.022540290769750927\n",
      "Puzzle;Creativity : 0.022540290769750927\n",
      "Music;Music & Video : 0.022540290769750927\n",
      "Entertainment;Pretend Play : 0.022540290769750927\n",
      "Casual;Education : 0.022540290769750927\n",
      "Board;Action & Adventure : 0.022540290769750927\n",
      "Video Players & Editors;Creativity : 0.011270145384875464\n",
      "Trivia;Education : 0.011270145384875464\n",
      "Travel & Local;Action & Adventure : 0.011270145384875464\n",
      "Tools;Education : 0.011270145384875464\n",
      "Strategy;Education : 0.011270145384875464\n",
      "Strategy;Creativity : 0.011270145384875464\n",
      "Strategy;Action & Adventure : 0.011270145384875464\n",
      "Simulation;Education : 0.011270145384875464\n",
      "Role Playing;Brain Games : 0.011270145384875464\n",
      "Racing;Pretend Play : 0.011270145384875464\n",
      "Puzzle;Education : 0.011270145384875464\n",
      "Parenting;Brain Games : 0.011270145384875464\n",
      "Music & Audio;Music & Video : 0.011270145384875464\n",
      "Lifestyle;Pretend Play : 0.011270145384875464\n",
      "Lifestyle;Education : 0.011270145384875464\n",
      "Health & Fitness;Education : 0.011270145384875464\n",
      "Health & Fitness;Action & Adventure : 0.011270145384875464\n",
      "Entertainment;Education : 0.011270145384875464\n",
      "Communication;Creativity : 0.011270145384875464\n",
      "Comics;Creativity : 0.011270145384875464\n",
      "Casual;Music & Video : 0.011270145384875464\n",
      "Card;Action & Adventure : 0.011270145384875464\n",
      "Books & Reference;Education : 0.011270145384875464\n",
      "Art & Design;Pretend Play : 0.011270145384875464\n",
      "Art & Design;Action & Adventure : 0.011270145384875464\n",
      "Arcade;Pretend Play : 0.011270145384875464\n",
      "Adventure;Education : 0.011270145384875464\n"
     ]
    }
   ],
   "source": [
    "display_table(free_android,-4)#genre"
   ]
  },
  {
   "cell_type": "markdown",
   "metadata": {},
   "source": [
    "The difference between the Genres and the Category columns is not crystal clear, but one thing we can notice is that the Genres column is much more granular (it has more categories). We're only looking for the bigger picture at the moment, so we'll only work with the Category column moving forward."
   ]
  }
 ],
 "metadata": {
  "kernelspec": {
   "display_name": "Python 3",
   "language": "python",
   "name": "python3"
  },
  "language_info": {
   "codemirror_mode": {
    "name": "ipython",
    "version": 3
   },
   "file_extension": ".py",
   "mimetype": "text/x-python",
   "name": "python",
   "nbconvert_exporter": "python",
   "pygments_lexer": "ipython3",
   "version": "3.7.3"
  }
 },
 "nbformat": 4,
 "nbformat_minor": 2
}
